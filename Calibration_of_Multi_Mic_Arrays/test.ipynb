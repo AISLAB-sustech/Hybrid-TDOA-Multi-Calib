{
 "cells": [
  {
   "cell_type": "code",
   "execution_count": 1,
   "metadata": {},
   "outputs": [
    {
     "data": {
      "text/plain": [
       "array([[0.00000000e+00, 0.00000000e+00],\n",
       "       [2.36048090e-02, 1.03166034e-05],\n",
       "       [9.17955043e-02, 8.00452351e-05],\n",
       "       [5.36680008e-02, 2.76682643e-05],\n",
       "       [1.72664529e-02, 1.06183292e-05]])"
      ]
     },
     "execution_count": 1,
     "metadata": {},
     "output_type": "execute_result"
    }
   ],
   "source": [
    "import numpy as np\n",
    "# Wang's Reading\n",
    "# MIC format: M*8 [loc,euler(rad),off,dri], mic1 params all zero\n",
    "MIC = np.load(\"Simulation_dataset/0_SETTING/MIC_CONFIG.npy\")\n",
    "mic_location_gt = MIC[[0,1,4,6,7], :3]\n",
    "mic_angle_gt = MIC[[0,1,4,6,7],3:6]/np.pi*180\n",
    "mic_asyn_gt = MIC[[0,1,4,6,7],6:8]\n",
    "# s_k_real format: K*3\n",
    "s_k_real = np.load(\"Simulation_dataset/0_SETTING/pattern_{}_src.npy\".format(1))\n",
    "mic_asyn_gt\n",
    "# print(np.round(MIC,3))\n",
    "# print(np.round(s_k_real,3))"
   ]
  },
  {
   "cell_type": "code",
   "execution_count": 54,
   "metadata": {},
   "outputs": [
    {
     "data": {
      "text/plain": [
       "array([0.        , 5.17823228, 4.60404594, 8.90997102, 3.22626365,\n",
       "       9.74847468, 8.40593221, 0.49817092])"
      ]
     },
     "execution_count": 54,
     "metadata": {},
     "output_type": "execute_result"
    }
   ],
   "source": [
    "# Our Reading\n",
    "import scipy.io as sio\n",
    "from scipy.spatial.transform import Rotation\n",
    "\n",
    "# 读取 MATLAB 文件\n",
    "mat_data = sio.loadmat('zhangSimDataset/g_list.mat')\n",
    "# 获取结构体数据\n",
    "g_list=mat_data['g_list']\n",
    "g=g_list[0]\n",
    "M=g['M'][0][0][0]\n",
    "K=g['K'][0][0][0]\n",
    "x_gt=g['x_gt'][0]\n",
    "\n",
    "mic_location_gt=x_gt[0:M,0:3]\n",
    "\n",
    "mic_angle_gt=[]\n",
    "mic_lie_a_gt=x_gt[0:M,3:6]\n",
    "for mic_lie_a in mic_lie_a_gt:\n",
    "    rot = Rotation.from_rotvec(mic_lie_a)\n",
    "    euler_angles = rot.as_euler('xyz', degrees=True) # zyx?\n",
    "    mic_angle_gt.append(euler_angles)\n",
    "mic_angle_gt=np.array(mic_angle_gt)\n",
    "\n",
    "mic_asyn_gt=x_gt[0:M,6:8]\n",
    "mic_asyn_gt[:,1]=np.array([dri-mic_asyn_gt[0,1] for dri in mic_asyn_gt[:,1]])\n",
    "\n",
    "s_k_real=x_gt[M+1:,0:3]\n",
    "\n",
    "record_time=g['dt'][0].T\n",
    "record_time=record_time[0]\n",
    "record_time\n",
    "# mic_location_gt[1:M,:]\n",
    "# np.round(g['x'],3)"
   ]
  },
  {
   "cell_type": "code",
   "execution_count": 4,
   "metadata": {},
   "outputs": [
    {
     "data": {
      "text/plain": [
       "array([0.        , 5.84213736, 8.36561663, 9.4813382 , 5.04643198,\n",
       "       3.63830334, 8.43377317, 8.909844  ])"
      ]
     },
     "execution_count": 4,
     "metadata": {},
     "output_type": "execute_result"
    }
   ],
   "source": [
    "# Our Reading\n",
    "import scipy.io as sio\n",
    "from scipy.spatial.transform import Rotation\n",
    "\n",
    "# 读取 MATLAB 文件\n",
    "mat_data = sio.loadmat('zhangSimDataset/g_list0.mat')\n",
    "# 获取结构体数据\n",
    "g_list=mat_data['g_list']\n",
    "g=g_list[0]\n",
    "M=g['M'][0][0][0]\n",
    "K=g['K'][0][0][0]\n",
    "x_gt=g['x_gt'][0]\n",
    "\n",
    "mic_location_gt=x_gt[0:M,0:3]\n",
    "\n",
    "mic_angle_gt=[]\n",
    "mic_lie_a_gt=x_gt[0:M,3:6]\n",
    "for mic_lie_a in mic_lie_a_gt:\n",
    "    rot = Rotation.from_rotvec(mic_lie_a)\n",
    "    euler_angles = rot.as_euler('xyz', degrees=True) # zyx?\n",
    "    mic_angle_gt.append(euler_angles)\n",
    "mic_angle_gt=np.array(mic_angle_gt)\n",
    "\n",
    "mic_asyn_gt=x_gt[0:M,6:8]\n",
    "mic_asyn_gt[:,1]=np.array([dri-mic_asyn_gt[0,1] for dri in mic_asyn_gt[:,1]])\n",
    "\n",
    "s_k_real=x_gt[M+1:,0:3]\n",
    "\n",
    "record_time=g['dt'][0].T\n",
    "record_time=record_time[0]\n",
    "# mic_location_gt[1:M,:]\n",
    "# np.round(g['x'],3)\n",
    "\n",
    "# TDOA DOA Odo\n",
    "# su_tdoa=g['su_tdoa'][0].T\n",
    "# su_tdoa=np.hstack((np.zeros((K,1)),su_tdoa))\n",
    "# su_tdoa\n",
    "\n",
    "doa=g['doa'][0]\n",
    "wangDoa=[]\n",
    "for j in range(K):\n",
    "    wangDoa.append(doa[M*j:M*(j+1),:])\n",
    "doa=np.array(wangDoa)\n",
    "doa.shape\n",
    "\n",
    "odo=g['S'][0].T\n",
    "odo=np.vstack((odo,np.zeros((1,3))))\n",
    "np.vstack((g['S'][0].T,np.zeros((1,3))))\n",
    "\n",
    "record_time=g['dt'][0].T\n",
    "record_time=record_time[0]\n",
    "record_time"
   ]
  },
  {
   "cell_type": "code",
   "execution_count": 2,
   "metadata": {},
   "outputs": [
    {
     "name": "stdout",
     "output_type": "stream",
     "text": [
      "[[-0.34268684  0.02187012  0.00653462]\n",
      " [-0.02697275 -0.07460342 -0.30593579]\n",
      " [ 0.03381191 -0.0454228  -0.2841546 ]\n",
      " [ 0.32043653  0.07893842  0.01805467]\n",
      " [-0.34340978  0.03713214  0.00333385]\n",
      " [ 0.00387454  0.00228383  0.32867949]\n",
      " [ 0.01902676  0.02431965  0.34397759]\n",
      " [ 0.05437771 -0.04069427 -0.34724229]\n",
      " [ 0.02473962  0.29804039  0.04693469]\n",
      " [ 0.02138115 -0.0054302   0.34935932]\n",
      " [-0.01759839 -0.0444556   0.35905076]\n",
      " [-0.30504036  0.00343324 -0.0006587 ]\n",
      " [-0.06381434 -0.35836556 -0.01396525]\n",
      " [ 0.00701132  0.04155106 -0.34892215]\n",
      " [-0.02340456  0.02866829 -0.33713542]\n",
      " [-0.04105838 -0.29677891 -0.02572504]\n",
      " [-0.01684413 -0.36433893  0.01076313]\n",
      " [ 0.36554377 -0.01126514  0.01189103]\n",
      " [-0.34747672  0.07009823  0.04508357]\n",
      " [-0.01786379  0.01585023  0.36152808]\n",
      " [ 0.01278856  0.31058862 -0.00487101]\n",
      " [-0.31152903  0.01332249 -0.02570468]\n",
      " [ 0.01340785 -0.36377277 -0.0639697 ]\n",
      " [ 0.00521589  0.02853604  0.34659025]\n",
      " [ 0.04407052  0.05248549  0.34393925]\n",
      " [-0.01930012  0.33191622 -0.04347119]\n",
      " [-0.00108569  0.33060792  0.00528871]\n",
      " [ 0.03283861 -0.39712757  0.02254346]\n",
      " [-0.01621821  0.02379667  0.33854293]\n",
      " [-0.03106303 -0.30710528 -0.02218716]\n",
      " [ 0.01568836  0.31557704 -0.01432461]\n",
      " [ 0.00337589  0.3904756   0.02082459]\n",
      " [ 0.33274589  0.04988529  0.00091825]\n",
      " [ 0.32440836 -0.02904413  0.005012  ]\n",
      " [ 0.00349806 -0.02046772  0.2759127 ]\n",
      " [-0.00419707  0.00344774 -0.34518347]\n",
      " [-0.02859949 -0.36551815 -0.01453337]\n",
      " [ 0.04088814  0.33791397 -0.04897862]\n",
      " [-0.31403429 -0.01343685  0.07017103]\n",
      " [-0.00939969 -0.33512186  0.00582505]\n",
      " [ 0.00860638  0.00155579 -0.33178681]\n",
      " [-0.00658762 -0.01659769  0.32211601]\n",
      " [-0.03553251 -0.34917853 -0.01990602]\n",
      " [-0.01301209 -0.01335732 -0.33759211]\n",
      " [-0.31976131 -0.00928388  0.00272391]\n",
      " [ 0.008108   -0.34276809 -0.00434927]\n",
      " [ 0.01066112 -0.05096759 -0.31361561]\n",
      " [-0.01417127 -0.4440404   0.01601525]\n",
      " [-0.03604054  0.36008292 -0.02954184]\n",
      " [-0.33965214  0.01998474 -0.02388745]\n",
      " [-0.02986259 -0.33675715  0.04110545]\n",
      " [ 0.0329896   0.04201744 -0.32179209]\n",
      " [ 0.34798186  0.03210929  0.0170566 ]\n",
      " [-0.02414897  0.02347891  0.31853078]\n",
      " [-0.02459658  0.00416141  0.33094156]\n",
      " [ 0.02617996  0.0083555  -0.34615954]\n",
      " [-0.00180278 -0.01705465  0.32362356]\n",
      " [ 0.0379831   0.0124069   0.32213203]\n",
      " [-0.00960499 -0.35112921 -0.00562972]\n",
      " [-0.04459176 -0.3149765  -0.00809532]\n",
      " [ 0.02077479  0.36217333  0.00945257]\n",
      " [ 0.30289337 -0.03667727  0.02468438]\n",
      " [ 0.02509425 -0.04134283 -0.3616962 ]\n",
      " [ 0.03273859 -0.3311104   0.06092281]\n",
      " [-0.31782649  0.02786572 -0.00252513]\n",
      " [-0.01345697 -0.37683117 -0.08120792]\n",
      " [ 0.03347081  0.35715643 -0.01512801]\n",
      " [ 0.0315753   0.28932173  0.04722312]\n",
      " [ 0.01417012  0.38364123 -0.05073633]\n",
      " [ 0.04283422 -0.30547652  0.0101841 ]\n",
      " [-0.02606346 -0.3226882   0.00788426]\n",
      " [-0.01827104 -0.3744649  -0.03205874]\n",
      " [-0.01592102  0.3674416   0.03561175]\n",
      " [ 0.38406021  0.01470844 -0.04336591]\n",
      " [-0.35562636 -0.03462133 -0.00773022]\n",
      " [-0.29202891 -0.00536942 -0.0129189 ]\n",
      " [ 0.01587217 -0.31133241  0.02900148]\n",
      " [-0.02805822 -0.02634625 -0.34700518]\n",
      " [ 0.02229228  0.00579894  0.30419363]\n",
      " [ 0.          0.          0.        ]]\n"
     ]
    }
   ],
   "source": [
    "pattern=1\n",
    "# tdoa_mea format: K-1*M\n",
    "tdoa_mea  = np.load(\"Simulation_dataset/1_TDOA/pattern_{}_measurement.npy\".format(pattern))\n",
    "tdoa_ture = np.load(\"Simulation_dataset/1_TDOA/pattern_{}_true.npy\".format(pattern))\n",
    "# doa_mea format: K*M*3\n",
    "doa_mea = np.load(\"Simulation_dataset/2_DOA/pattern_{}_measurement.npy\".format(pattern))\n",
    "doa_ture = np.load(\"Simulation_dataset/2_DOA/pattern_{}_ture.npy\".format(pattern))\n",
    "# odo_mea format: K*3, last row is zero vec.\n",
    "odo_mea = np.load(\"Simulation_dataset/3_ODO/pattern_{}_measurement.npy\".format(pattern))\n",
    "odo_ture = np.load(\"Simulation_dataset/3_ODO/pattern_{}_ture.npy\".format(pattern))\n",
    "# print(tdoa_mea)\n",
    "# print(doa_mea.shape)\n",
    "print(odo_mea)"
   ]
  },
  {
   "cell_type": "code",
   "execution_count": 92,
   "metadata": {},
   "outputs": [
    {
     "data": {
      "text/plain": [
       "array([ 1.05002403,  4.2500391 ,  7.64995193, 13.65002704, 16.94998407,\n",
       "       22.75001812, 26.15002608, 31.80082011, 35.19992399, 42.05007601,\n",
       "       45.35013509, 52.04990911, 55.39986706])"
      ]
     },
     "execution_count": 92,
     "metadata": {},
     "output_type": "execute_result"
    }
   ],
   "source": [
    "from scipy.io import loadmat\n",
    "sound_event = loadmat(r\"Real_world_dataset/exp2/the pattern \" + str(1) + \" sound seq.mat\")[\"seq_time\"]\n",
    "time_step = np.zeros(len(sound_event)-1)\n",
    "for i in range(len(sound_event)-1):\n",
    "    current_time = sound_event[i+1,1] + sound_event[i+1, 2] / 1e9\n",
    "    start_time = sound_event[0,1] + sound_event[0,2] / 1e9\n",
    "    time_step[i] = current_time -start_time\n",
    "time_step"
   ]
  },
  {
   "cell_type": "code",
   "execution_count": 8,
   "metadata": {},
   "outputs": [
    {
     "name": "stdout",
     "output_type": "stream",
     "text": [
      "[[1.00868816 1.02181484 1.00555014]\n",
      " [4.04888292 1.00451981 0.99934355]\n",
      " [4.02115824 4.01121607 0.99257533]\n",
      " [1.04282422 3.96428302 0.95932701]\n",
      " [1.07082197 3.99852693 4.01831679]\n",
      " [1.04393078 0.97010829 4.06210125]\n",
      " [4.04287258 0.96235543 4.08986855]\n",
      " [4.04637437 3.99320278 4.11984714]]\n"
     ]
    },
    {
     "data": {
      "text/plain": [
       "array([[ 3.04019476, -0.01729503, -0.00620659],\n",
       "       [-0.02772468,  3.00669626, -0.00676822],\n",
       "       [-2.97833402, -0.04693305, -0.03324832],\n",
       "       [ 0.02799775,  0.0342439 ,  3.05898977],\n",
       "       [-0.02689119, -3.02841863,  0.04378447],\n",
       "       [ 2.9989418 , -0.00775287,  0.0277673 ],\n",
       "       [ 0.00350179,  3.03084735,  0.02997859],\n",
       "       [ 0.        ,  0.        ,  0.        ]])"
      ]
     },
     "execution_count": 8,
     "metadata": {},
     "output_type": "execute_result"
    }
   ],
   "source": [
    "zhangDataset = sio.loadmat(f\"zhangSimDataset/g_list0.mat\")\n",
    "g_list=zhangDataset['g_list']\n",
    "g=g_list[0,0]\n",
    "odo_mea=g['S'].T\n",
    "odo_mea2=np.vstack((odo_mea[1:,:],odo_mea[-1,:]))\n",
    "print(odo_mea)\n",
    "odo_mea=odo_mea2-odo_mea\n",
    "odo_mea"
   ]
  }
 ],
 "metadata": {
  "kernelspec": {
   "display_name": "Python 3",
   "language": "python",
   "name": "python3"
  },
  "language_info": {
   "codemirror_mode": {
    "name": "ipython",
    "version": 3
   },
   "file_extension": ".py",
   "mimetype": "text/x-python",
   "name": "python",
   "nbconvert_exporter": "python",
   "pygments_lexer": "ipython3",
   "version": "3.9.10"
  }
 },
 "nbformat": 4,
 "nbformat_minor": 2
}
